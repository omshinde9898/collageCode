{
  "nbformat": 4,
  "nbformat_minor": 0,
  "metadata": {
    "colab": {
      "provenance": []
    },
    "kernelspec": {
      "name": "python3",
      "display_name": "Python 3"
    },
    "language_info": {
      "name": "python"
    }
  },
  "cells": [
    {
      "cell_type": "code",
      "execution_count": 3,
      "metadata": {
        "colab": {
          "base_uri": "https://localhost:8080/"
        },
        "id": "2LhU09WR2yU_",
        "outputId": "683e2e83-3923-49ea-c915-2d9e5e45428b"
      },
      "outputs": [
        {
          "output_type": "stream",
          "name": "stdout",
          "text": [
            "Requirement already satisfied: deap in /usr/local/lib/python3.11/dist-packages (1.4.2)\n",
            "Requirement already satisfied: numpy in /usr/local/lib/python3.11/dist-packages (from deap) (2.0.2)\n"
          ]
        }
      ],
      "source": [
        "pip install deap\n"
      ]
    },
    {
      "cell_type": "code",
      "source": [
        "import random\n",
        "from deap import base, creator, tools, algorithms\n",
        "\n",
        "# --- Problem Constants ---\n",
        "IND_SIZE = 10  # Number of genes (dimensions)\n",
        "LOW, UP = -5.12, 5.12  # Range of gene values\n",
        "\n",
        "# --- DEAP Setup ---\n",
        "# Define the fitness function (Minimization problem)\n",
        "creator.create(\"FitnessMin\", base.Fitness, weights=(-1.0,))\n",
        "# Create the individual class based on a list with fitness attribute\n",
        "creator.create(\"Individual\", list, fitness=creator.FitnessMin)\n",
        "\n",
        "toolbox = base.Toolbox()\n",
        "\n",
        "# Attribute generator (genes)\n",
        "toolbox.register(\"attr_float\", random.uniform, LOW, UP)\n",
        "# Structure initializers\n",
        "toolbox.register(\"individual\", tools.initRepeat, creator.Individual, toolbox.attr_float, n=IND_SIZE)\n",
        "toolbox.register(\"population\", tools.initRepeat, list, toolbox.individual)\n",
        "\n",
        "# Fitness function: Sphere function\n",
        "def evalSphere(individual):\n",
        "    return sum(x**2 for x in individual),  # Return as tuple\n",
        "\n",
        "toolbox.register(\"evaluate\", evalSphere)\n",
        "toolbox.register(\"mate\", tools.cxBlend, alpha=0.5)\n",
        "toolbox.register(\"mutate\", tools.mutGaussian, mu=0, sigma=1, indpb=0.2)\n",
        "toolbox.register(\"select\", tools.selTournament, tournsize=3)\n",
        "\n",
        "# --- Evolution Parameters ---\n",
        "POP_SIZE = 100\n",
        "NGEN = 50\n",
        "CXPB = 0.5  # Crossover probability\n",
        "MUTPB = 0.2  # Mutation probability\n",
        "\n",
        "def main():\n",
        "    pop = toolbox.population(n=POP_SIZE)\n",
        "    hof = tools.HallOfFame(1)\n",
        "    stats = tools.Statistics(lambda ind: ind.fitness.values)\n",
        "    stats.register(\"avg\", lambda fits: sum(f[0] for f in fits) / len(fits))\n",
        "    stats.register(\"min\", lambda fits: min(f[0] for f in fits))\n",
        "\n",
        "    # Run the algorithm\n",
        "    pop, log = algorithms.eaSimple(pop, toolbox, cxpb=CXPB, mutpb=MUTPB, ngen=NGEN,\n",
        "                                   stats=stats, halloffame=hof, verbose=True)\n",
        "\n",
        "    print(\"\\nBest Individual:\", hof[0])\n",
        "    print(\"Fitness Value:\", hof[0].fitness.values[0])\n",
        "\n",
        "if __name__ == \"__main__\":\n",
        "    main()\n"
      ],
      "metadata": {
        "colab": {
          "base_uri": "https://localhost:8080/"
        },
        "id": "xAivtLYN3kLU",
        "outputId": "fd4e23ca-dbad-4290-a3c0-4ddfe235536f"
      },
      "execution_count": 5,
      "outputs": [
        {
          "output_type": "stream",
          "name": "stdout",
          "text": [
            "gen\tnevals\tavg    \tmin    \n",
            "0  \t100   \t87.5461\t36.0572\n",
            "1  \t52    \t72.2748\t36.0572\n",
            "2  \t56    \t60.792 \t20.7535\n",
            "3  \t62    \t49.6277\t16.3714\n",
            "4  \t69    \t38.3098\t7.47924\n",
            "5  \t56    \t30.9735\t7.46554\n",
            "6  \t62    \t21.2873\t4.82715\n",
            "7  \t57    \t15.193 \t3.40166\n",
            "8  \t64    \t10.0136\t3.40166\n",
            "9  \t61    \t8.19852\t3.20084\n",
            "10 \t55    \t6.64398\t1.58585\n",
            "11 \t47    \t5.76145\t0.799369\n",
            "12 \t63    \t4.59586\t0.799369\n",
            "13 \t63    \t3.7482 \t0.799369\n",
            "14 \t62    \t2.74764\t0.712702\n",
            "15 \t61    \t2.15033\t0.516934\n",
            "16 \t50    \t1.64975\t0.516934\n",
            "17 \t74    \t1.3298 \t0.28909 \n",
            "18 \t63    \t1.48665\t0.365773\n",
            "19 \t60    \t0.974869\t0.256285\n",
            "20 \t63    \t0.957439\t0.239601\n",
            "21 \t63    \t0.634606\t0.167852\n",
            "22 \t63    \t0.748775\t0.142796\n",
            "23 \t60    \t0.449042\t0.142675\n",
            "24 \t51    \t0.55153 \t0.0769686\n",
            "25 \t60    \t0.474652\t0.0769686\n",
            "26 \t45    \t0.518156\t0.0754596\n",
            "27 \t58    \t0.643478\t0.0552813\n",
            "28 \t56    \t0.441023\t0.0537005\n",
            "29 \t50    \t0.410864\t0.0537005\n",
            "30 \t60    \t0.327214\t0.0395672\n",
            "31 \t57    \t0.351489\t0.0395672\n",
            "32 \t60    \t0.497559\t0.0344826\n",
            "33 \t65    \t0.411056\t0.0253848\n",
            "34 \t50    \t0.572158\t0.0209586\n",
            "35 \t62    \t0.276926\t0.0209586\n",
            "36 \t64    \t0.317727\t0.0166583\n",
            "37 \t62    \t0.550776\t0.0155016\n",
            "38 \t66    \t0.368605\t0.0147691\n",
            "39 \t62    \t0.394212\t0.0135021\n",
            "40 \t55    \t0.433615\t0.0101167\n",
            "41 \t69    \t0.535248\t0.0101167\n",
            "42 \t52    \t0.797584\t0.00938856\n",
            "43 \t62    \t0.466791\t0.00889703\n",
            "44 \t57    \t0.42416 \t0.00795388\n",
            "45 \t53    \t0.317417\t0.00750983\n",
            "46 \t66    \t0.517406\t0.00556735\n",
            "47 \t68    \t0.26414 \t0.00556735\n",
            "48 \t55    \t0.346944\t0.00525332\n",
            "49 \t66    \t0.265993\t0.00467027\n",
            "50 \t58    \t0.67394 \t0.00455513\n",
            "\n",
            "Best Individual: [-0.013583929459304464, 0.010137347362422045, 0.059037591999436256, 0.007996726917859647, -0.0024640486821670905, -0.013803393596546587, -0.01762800268003697, -0.003941662847920031, -0.007718351762309841, 0.01166150772251542]\n",
            "Fitness Value: 0.0045551259730648615\n"
          ]
        },
        {
          "output_type": "stream",
          "name": "stderr",
          "text": [
            "/usr/local/lib/python3.11/dist-packages/deap/creator.py:185: RuntimeWarning: A class named 'Individual' has already been created and it will be overwritten. Consider deleting previous creation of that class or rename it.\n",
            "  warnings.warn(\"A class named '{0}' has already been created and it \"\n"
          ]
        }
      ]
    }
  ]
}